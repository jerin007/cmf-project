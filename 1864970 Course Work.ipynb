{
 "cells": [
  {
   "cell_type": "code",
   "execution_count": 928,
   "id": "ba0375b4",
   "metadata": {},
   "outputs": [],
   "source": [
    "# QUESTION 1"
   ]
  },
  {
   "cell_type": "code",
   "execution_count": 927,
   "id": "2cf11ef1",
   "metadata": {},
   "outputs": [
    {
     "name": "stdout",
     "output_type": "stream",
     "text": [
      "Requirement already satisfied: yfinance==0.1.70 in c:\\users\\jerin\\anaconda3\\lib\\site-packages (0.1.70)\n",
      "Requirement already satisfied: lxml>=4.5.1 in c:\\users\\jerin\\anaconda3\\lib\\site-packages (from yfinance==0.1.70) (4.6.3)\n",
      "Requirement already satisfied: numpy>=1.15 in c:\\users\\jerin\\anaconda3\\lib\\site-packages (from yfinance==0.1.70) (1.20.3)\n",
      "Requirement already satisfied: multitasking>=0.0.7 in c:\\users\\jerin\\anaconda3\\lib\\site-packages (from yfinance==0.1.70) (0.0.10)\n",
      "Requirement already satisfied: pandas>=0.24.0 in c:\\users\\jerin\\anaconda3\\lib\\site-packages (from yfinance==0.1.70) (1.3.4)\n",
      "Requirement already satisfied: requests>=2.26 in c:\\users\\jerin\\anaconda3\\lib\\site-packages (from yfinance==0.1.70) (2.26.0)\n",
      "Requirement already satisfied: pytz>=2017.3 in c:\\users\\jerin\\anaconda3\\lib\\site-packages (from pandas>=0.24.0->yfinance==0.1.70) (2021.3)\n",
      "Requirement already satisfied: python-dateutil>=2.7.3 in c:\\users\\jerin\\anaconda3\\lib\\site-packages (from pandas>=0.24.0->yfinance==0.1.70) (2.8.2)\n",
      "Requirement already satisfied: six>=1.5 in c:\\users\\jerin\\anaconda3\\lib\\site-packages (from python-dateutil>=2.7.3->pandas>=0.24.0->yfinance==0.1.70) (1.16.0)\n",
      "Requirement already satisfied: idna<4,>=2.5 in c:\\users\\jerin\\anaconda3\\lib\\site-packages (from requests>=2.26->yfinance==0.1.70) (3.2)\n",
      "Requirement already satisfied: certifi>=2017.4.17 in c:\\users\\jerin\\anaconda3\\lib\\site-packages (from requests>=2.26->yfinance==0.1.70) (2021.10.8)\n",
      "Requirement already satisfied: urllib3<1.27,>=1.21.1 in c:\\users\\jerin\\anaconda3\\lib\\site-packages (from requests>=2.26->yfinance==0.1.70) (1.26.7)Note: you may need to restart the kernel to use updated packages.\n",
      "Requirement already satisfied: charset-normalizer~=2.0.0 in c:\\users\\jerin\\anaconda3\\lib\\site-packages (from requests>=2.26->yfinance==0.1.70) (2.0.4)\n",
      "\n"
     ]
    }
   ],
   "source": [
    "pip install yfinance==0.1.70"
   ]
  },
  {
   "cell_type": "code",
   "execution_count": 871,
   "id": "62527308",
   "metadata": {},
   "outputs": [],
   "source": [
    "import yfinance as yf\n",
    "import numpy as np\n",
    "import pandas as pd\n",
    "import matplotlib as mpl\n",
    "import scipy.stats as si\n",
    "from mpl_toolkits.mplot3d import Axes3D\n",
    "import matplotlib.pyplot as plt"
   ]
  },
  {
   "cell_type": "code",
   "execution_count": 872,
   "id": "8de8fd30",
   "metadata": {},
   "outputs": [
    {
     "name": "stdout",
     "output_type": "stream",
     "text": [
      "[*********************100%***********************]  1 of 1 completed\n"
     ]
    }
   ],
   "source": [
    "initial_data = yf.download(\"BNB-USD\", start=\"2021-03-29\", end=\"2022-03-29\")"
   ]
  },
  {
   "cell_type": "code",
   "execution_count": 873,
   "id": "4e54385d",
   "metadata": {},
   "outputs": [
    {
     "data": {
      "text/html": [
       "<div>\n",
       "<style scoped>\n",
       "    .dataframe tbody tr th:only-of-type {\n",
       "        vertical-align: middle;\n",
       "    }\n",
       "\n",
       "    .dataframe tbody tr th {\n",
       "        vertical-align: top;\n",
       "    }\n",
       "\n",
       "    .dataframe thead th {\n",
       "        text-align: right;\n",
       "    }\n",
       "</style>\n",
       "<table border=\"1\" class=\"dataframe\">\n",
       "  <thead>\n",
       "    <tr style=\"text-align: right;\">\n",
       "      <th></th>\n",
       "      <th>Open</th>\n",
       "      <th>High</th>\n",
       "      <th>Low</th>\n",
       "      <th>Close</th>\n",
       "      <th>Adj Close</th>\n",
       "      <th>Volume</th>\n",
       "    </tr>\n",
       "    <tr>\n",
       "      <th>Date</th>\n",
       "      <th></th>\n",
       "      <th></th>\n",
       "      <th></th>\n",
       "      <th></th>\n",
       "      <th></th>\n",
       "      <th></th>\n",
       "    </tr>\n",
       "  </thead>\n",
       "  <tbody>\n",
       "    <tr>\n",
       "      <th>2021-03-28</th>\n",
       "      <td>269.310730</td>\n",
       "      <td>280.992401</td>\n",
       "      <td>262.288666</td>\n",
       "      <td>269.191284</td>\n",
       "      <td>269.191284</td>\n",
       "      <td>2527142069</td>\n",
       "    </tr>\n",
       "    <tr>\n",
       "      <th>2021-03-29</th>\n",
       "      <td>268.969391</td>\n",
       "      <td>277.479004</td>\n",
       "      <td>265.367828</td>\n",
       "      <td>275.214630</td>\n",
       "      <td>275.214630</td>\n",
       "      <td>2067448661</td>\n",
       "    </tr>\n",
       "    <tr>\n",
       "      <th>2021-03-30</th>\n",
       "      <td>275.238647</td>\n",
       "      <td>311.426483</td>\n",
       "      <td>271.578552</td>\n",
       "      <td>311.426483</td>\n",
       "      <td>311.426483</td>\n",
       "      <td>4039620710</td>\n",
       "    </tr>\n",
       "    <tr>\n",
       "      <th>2021-03-31</th>\n",
       "      <td>311.551422</td>\n",
       "      <td>316.486542</td>\n",
       "      <td>289.009277</td>\n",
       "      <td>302.063446</td>\n",
       "      <td>302.063446</td>\n",
       "      <td>3545493416</td>\n",
       "    </tr>\n",
       "    <tr>\n",
       "      <th>2021-04-01</th>\n",
       "      <td>302.245483</td>\n",
       "      <td>339.209106</td>\n",
       "      <td>301.588654</td>\n",
       "      <td>335.212891</td>\n",
       "      <td>335.212891</td>\n",
       "      <td>3718677616</td>\n",
       "    </tr>\n",
       "  </tbody>\n",
       "</table>\n",
       "</div>"
      ],
      "text/plain": [
       "                  Open        High         Low       Close   Adj Close  \\\n",
       "Date                                                                     \n",
       "2021-03-28  269.310730  280.992401  262.288666  269.191284  269.191284   \n",
       "2021-03-29  268.969391  277.479004  265.367828  275.214630  275.214630   \n",
       "2021-03-30  275.238647  311.426483  271.578552  311.426483  311.426483   \n",
       "2021-03-31  311.551422  316.486542  289.009277  302.063446  302.063446   \n",
       "2021-04-01  302.245483  339.209106  301.588654  335.212891  335.212891   \n",
       "\n",
       "                Volume  \n",
       "Date                    \n",
       "2021-03-28  2527142069  \n",
       "2021-03-29  2067448661  \n",
       "2021-03-30  4039620710  \n",
       "2021-03-31  3545493416  \n",
       "2021-04-01  3718677616  "
      ]
     },
     "execution_count": 873,
     "metadata": {},
     "output_type": "execute_result"
    }
   ],
   "source": [
    "initial_data.head()"
   ]
  },
  {
   "cell_type": "code",
   "execution_count": 874,
   "id": "51fadd0f",
   "metadata": {},
   "outputs": [
    {
     "data": {
      "text/plain": [
       "Date\n",
       "2021-03-28    269.191284\n",
       "2021-03-29    275.214630\n",
       "2021-03-30    311.426483\n",
       "2021-03-31    302.063446\n",
       "2021-04-01    335.212891\n",
       "Name: Adj Close, dtype: float64"
      ]
     },
     "execution_count": 874,
     "metadata": {},
     "output_type": "execute_result"
    }
   ],
   "source": [
    "data= initial_data['Adj Close']\n",
    "data.head()"
   ]
  },
  {
   "cell_type": "code",
   "execution_count": 875,
   "id": "97ba39a2",
   "metadata": {},
   "outputs": [
    {
     "data": {
      "text/plain": [
       "count    366.00\n",
       "mean     440.47\n",
       "std      101.48\n",
       "min      261.82\n",
       "25%      366.57\n",
       "50%      417.08\n",
       "75%      520.04\n",
       "max      675.68\n",
       "Name: Adj Close, dtype: float64"
      ]
     },
     "execution_count": 875,
     "metadata": {},
     "output_type": "execute_result"
    }
   ],
   "source": [
    "data.describe().round(2)"
   ]
  },
  {
   "cell_type": "code",
   "execution_count": 876,
   "id": "c994d674",
   "metadata": {},
   "outputs": [
    {
     "data": {
      "text/plain": [
       "array([<AxesSubplot:xlabel='Date'>], dtype=object)"
      ]
     },
     "execution_count": 876,
     "metadata": {},
     "output_type": "execute_result"
    },
    {
     "data": {
      "image/png": "[encoded data removed]",
      "text/plain": [
       "<Figure size 720x504 with 1 Axes>"
      ]
     },
     "metadata": {
      "needs_background": "light"
     },
     "output_type": "display_data"
    }
   ],
   "source": [
    "data.plot(figsize=(10,7), subplots = True)"
   ]
  },
  {
   "cell_type": "code",
   "execution_count": 877,
   "id": "59f57af9",
   "metadata": {},
   "outputs": [],
   "source": [
    "log_return = np.log(initial_data['Adj Close'] / initial_data['Adj Close'].shift(1))\n",
    "# calculating the volatility of the stock"
   ]
  },
  {
   "cell_type": "code",
   "execution_count": 878,
   "id": "7e8bd390",
   "metadata": {},
   "outputs": [
    {
     "name": "stdout",
     "output_type": "stream",
     "text": [
      "The daily volatility is 5.67 %\n"
     ]
    }
   ],
   "source": [
    "vol = log_return.std() \n",
    "# Daily Volatility \n",
    "print('The daily volatility is', round(vol*100,2),'%')"
   ]
  },
  {
   "cell_type": "code",
   "execution_count": 879,
   "id": "7f5ce304",
   "metadata": {},
   "outputs": [
    {
     "name": "stdout",
     "output_type": "stream",
     "text": [
      "The annualised volatility is 108.4 %\n"
     ]
    }
   ],
   "source": [
    "vol = np.sqrt(365) * log_return.std()\n",
    "# annualised Volatility \n",
    "print('The annualised volatility is', round(vol*100,2),'%')"
   ]
  },
  {
   "cell_type": "code",
   "execution_count": 880,
   "id": "14127288",
   "metadata": {},
   "outputs": [
    {
     "data": {
      "text/plain": [
       "array([<AxesSubplot:xlabel='Date'>], dtype=object)"
      ]
     },
     "execution_count": 880,
     "metadata": {},
     "output_type": "execute_result"
    },
    {
     "data": {
      "image/png": "[encoded data removed]",
      "text/plain": [
       "<Figure size 720x432 with 1 Axes>"
      ]
     },
     "metadata": {
      "needs_background": "light"
     },
     "output_type": "display_data"
    }
   ],
   "source": [
    "log_return.dropna(inplace=True)\n",
    "#volatility graph\n",
    "log_return.plot(subplots=True, figsize=(10, 6))"
   ]
  },
  {
   "cell_type": "code",
   "execution_count": 881,
   "id": "7b133c6a",
   "metadata": {},
   "outputs": [],
   "source": [
    "import numpy as np\n",
    "import os"
   ]
  },
  {
   "cell_type": "code",
   "execution_count": 969,
   "id": "8dd41057",
   "metadata": {},
   "outputs": [],
   "source": [
    "#BINOMAL PRICE TREE\n",
    "#METHODOLOGY"
   ]
  },
  {
   "cell_type": "code",
   "execution_count": 882,
   "id": "986a3eb1",
   "metadata": {},
   "outputs": [],
   "source": [
    "S0 = 430              # spot stock price\n",
    "K = 500               # strike\n",
    "T = 1               # maturity \n",
    "r = 0.0167               # risk free rate \n",
    "sig = 1.08               # diffusion coefficient or volatility\n",
    "N = 3                   # number of periods or number of time steps  \n",
    "payoff = \"put\"          # payoff"
   ]
  },
  {
   "cell_type": "code",
   "execution_count": 883,
   "id": "645bac1e",
   "metadata": {},
   "outputs": [],
   "source": [
    "dT = float(T) / N                             # Delta t\n",
    "u = np.exp(sig * np.sqrt(dT))                 # up factor\n",
    "d = 1.0 / u                                   # down factor "
   ]
  },
  {
   "cell_type": "code",
   "execution_count": 884,
   "id": "ba7e412c",
   "metadata": {},
   "outputs": [],
   "source": [
    "S = np.zeros((N + 1, N + 1))\n",
    "S[0, 0] = S0\n",
    "z = 1\n",
    "for t in range(1, N + 1):\n",
    "    for i in range(z):\n",
    "        S[i, t] = S[i, t-1] * u\n",
    "        S[i+1, t] = S[i, t-1] * d\n",
    "    z += 1"
   ]
  },
  {
   "cell_type": "code",
   "execution_count": 885,
   "id": "3a0dbdb7",
   "metadata": {},
   "outputs": [
    {
     "data": {
      "text/plain": [
       "array([[ 430.        ,  802.17236154, 1496.46627353, 2791.68345255],\n",
       "       [   0.        ,  230.4990908 ,  430.        ,  802.17236154],\n",
       "       [   0.        ,    0.        ,  123.55774619,  230.4990908 ],\n",
       "       [   0.        ,    0.        ,    0.        ,   66.23243757]])"
      ]
     },
     "execution_count": 885,
     "metadata": {},
     "output_type": "execute_result"
    }
   ],
   "source": [
    "S"
   ]
  },
  {
   "cell_type": "code",
   "execution_count": 886,
   "id": "f1b81861",
   "metadata": {},
   "outputs": [
    {
     "data": {
      "text/plain": [
       "0.35317595023688025"
      ]
     },
     "execution_count": 886,
     "metadata": {},
     "output_type": "execute_result"
    }
   ],
   "source": [
    "a = np.exp(r * dT)    # risk free compound return\n",
    "p = (a - d)/ (u - d)  # risk neutral up probability\n",
    "q = 1.0 - p           # risk neutral down probability\n",
    "p"
   ]
  },
  {
   "cell_type": "code",
   "execution_count": 887,
   "id": "befa0b62",
   "metadata": {},
   "outputs": [
    {
     "data": {
      "text/plain": [
       "array([[  0.        ,   0.        ,   0.        ,   0.        ],\n",
       "       [  0.        ,   0.        ,   0.        ,   0.        ],\n",
       "       [  0.        ,   0.        ,   0.        , 269.5009092 ],\n",
       "       [  0.        ,   0.        ,   0.        , 433.76756243]])"
      ]
     },
     "execution_count": 887,
     "metadata": {},
     "output_type": "execute_result"
    }
   ],
   "source": [
    "S_T = S[:,-1]\n",
    "V = np.zeros((N + 1, N + 1))\n",
    "if payoff ==\"call\":\n",
    "    V[:,-1] = np.maximum(S_T-K, 0.0)\n",
    "elif payoff ==\"put\":\n",
    "    V[:,-1] = np.maximum(K-S_T, 0.0)\n",
    "V"
   ]
  },
  {
   "cell_type": "code",
   "execution_count": 888,
   "id": "5a5fd076",
   "metadata": {},
   "outputs": [
    {
     "data": {
      "text/plain": [
       "array([[232.92938005, 111.50578713,   0.        ,   0.        ],\n",
       "       [  0.        , 301.23875836, 173.35198589,   0.        ],\n",
       "       [  0.        ,   0.        , 373.66665307, 269.5009092 ],\n",
       "       [  0.        ,   0.        ,   0.        , 433.76756243]])"
      ]
     },
     "execution_count": 888,
     "metadata": {},
     "output_type": "execute_result"
    }
   ],
   "source": [
    "# for European Option\n",
    "for j in range(N-1, -1, -1):\n",
    "    for i in range(j+1):\n",
    "        V[i,j] = np.exp(-r*dT) * (p * V[i,j + 1] + q * V[i + 1,j + 1])\n",
    "V"
   ]
  },
  {
   "cell_type": "code",
   "execution_count": 889,
   "id": "0cd25beb",
   "metadata": {},
   "outputs": [
    {
     "name": "stdout",
     "output_type": "stream",
     "text": [
      "European put 232.9293800504054\n"
     ]
    }
   ],
   "source": [
    "print('European ' + payoff, str( V[0,0]))"
   ]
  },
  {
   "cell_type": "code",
   "execution_count": 890,
   "id": "806a8c41",
   "metadata": {},
   "outputs": [],
   "source": [
    "def mcs_simulation_np(p):\n",
    "    M = p\n",
    "    I = p\n",
    "    dt = T / M \n",
    "    S = np.zeros((M + 1, I))\n",
    "    S[0] = S0 \n",
    "    rn = np.random.standard_normal(S.shape) \n",
    "    for t in range(1, M + 1): \n",
    "        S[t] = S[t-1] * np.exp((r - sigma ** 2 / 2) * dt + sigma * np.sqrt(dt) * rn[t]) \n",
    "    return S"
   ]
  },
  {
   "cell_type": "code",
   "execution_count": 891,
   "id": "122a89aa",
   "metadata": {},
   "outputs": [],
   "source": [
    "T = 1\n",
    "r = 0.0167\n",
    "sigma = 1.08\n",
    "S0 = 430\n",
    "N = 100\n",
    "K = 500"
   ]
  },
  {
   "cell_type": "code",
   "execution_count": 892,
   "id": "133f49c2",
   "metadata": {},
   "outputs": [],
   "source": [
    "S = mcs_simulation_np(100)"
   ]
  },
  {
   "cell_type": "code",
   "execution_count": 893,
   "id": "68b784a1",
   "metadata": {},
   "outputs": [
    {
     "data": {
      "text/plain": [
       "array([[430.        , 409.50941636, 410.89199031, ..., 192.76404713,\n",
       "        194.91290713, 174.28204318],\n",
       "       [430.        , 372.9520228 , 339.55147401, ..., 201.11019687,\n",
       "        213.76764222, 256.95837182],\n",
       "       [430.        , 423.32788971, 451.96407354, ...,  64.31523293,\n",
       "         59.17377421,  51.8690894 ],\n",
       "       ...,\n",
       "       [430.        , 406.45364726, 343.67922175, ...,  96.86115361,\n",
       "         96.3713837 ,  80.68591907],\n",
       "       [430.        , 424.96117544, 413.10783361, ..., 262.85942418,\n",
       "        295.89539753, 312.51679319],\n",
       "       [430.        , 436.34953331, 470.56393529, ..., 432.5245513 ,\n",
       "        454.54910371, 516.06489507]])"
      ]
     },
     "execution_count": 893,
     "metadata": {},
     "output_type": "execute_result"
    }
   ],
   "source": [
    "S = np.transpose(S)\n",
    "S"
   ]
  },
  {
   "cell_type": "code",
   "execution_count": 894,
   "id": "d4303c37",
   "metadata": {},
   "outputs": [
    {
     "data": {
      "text/plain": [
       "Text(0.5, 1.0, 'Frequency distribution of the simulated end-of-preiod values')"
      ]
     },
     "execution_count": 894,
     "metadata": {},
     "output_type": "execute_result"
    },
    {
     "data": {
      "image/png": "[encoded data removed]",
      "text/plain": [
       "<Figure size 432x288 with 1 Axes>"
      ]
     },
     "metadata": {
      "needs_background": "light"
     },
     "output_type": "display_data"
    }
   ],
   "source": [
    "import matplotlib.pyplot as plt\n",
    "n, bins, patches = plt.hist(x=S[:,-1], bins='auto', color='#0504aa',alpha=0.7, rwidth=0.85)\n",
    "\n",
    "plt.grid(axis='y', alpha=0.75)\n",
    "plt.xlabel('S_T')\n",
    "plt.ylabel('Frequency')\n",
    "plt.title('Frequency distribution of the simulated end-of-preiod values')"
   ]
  },
  {
   "cell_type": "code",
   "execution_count": 895,
   "id": "4e4ee395",
   "metadata": {},
   "outputs": [
    {
     "name": "stdout",
     "output_type": "stream",
     "text": [
      "European put 220.47914667690085\n"
     ]
    }
   ],
   "source": [
    "p = np.mean(np.maximum(K - S[:,-1],0))\n",
    "print('European put', str(p))"
   ]
  },
  {
   "cell_type": "code",
   "execution_count": 896,
   "id": "d96b5c17",
   "metadata": {},
   "outputs": [
    {
     "name": "stdout",
     "output_type": "stream",
     "text": [
      "European call 133.16337382675675\n"
     ]
    }
   ],
   "source": [
    "c = np.mean(np.maximum(S[:,-1] - K,0))\n",
    "print('European call', str(c))"
   ]
  },
  {
   "cell_type": "code",
   "execution_count": 897,
   "id": "377f706e",
   "metadata": {},
   "outputs": [],
   "source": [
    "def delta(S, K, T, r, q, vol, payoff):\n",
    "    \n",
    "    d1 = (np.log(S / K) + (r - q + 0.5 * vol ** 2) * T) / (vol * np.sqrt(T))\n",
    "    if payoff == \"call\":\n",
    "        delta = np.exp(-q * T) * si.norm.cdf(d1, 0.0, 1.0)\n",
    "    elif payoff == \"put\":\n",
    "        delta =  - np.exp(-q * T) * si.norm.cdf(-d1, 0.0, 1.0)\n",
    "    \n",
    "    return delta"
   ]
  },
  {
   "cell_type": "code",
   "execution_count": 898,
   "id": "6962c076",
   "metadata": {},
   "outputs": [
    {
     "data": {
      "text/plain": [
       "0.6621252845036075"
      ]
     },
     "execution_count": 898,
     "metadata": {},
     "output_type": "execute_result"
    }
   ],
   "source": [
    "delta(430, 500, 1, 0.0167, 0, 1.084, 'call')"
   ]
  },
  {
   "cell_type": "code",
   "execution_count": 899,
   "id": "fc7617cb",
   "metadata": {},
   "outputs": [
    {
     "data": {
      "text/plain": [
       "-0.3378747154963925"
      ]
     },
     "execution_count": 899,
     "metadata": {},
     "output_type": "execute_result"
    }
   ],
   "source": [
    "delta(430, 500, 1, 0.0167, 0, 1.084, 'put')"
   ]
  },
  {
   "cell_type": "code",
   "execution_count": 900,
   "id": "8f2689d1",
   "metadata": {},
   "outputs": [],
   "source": [
    "S = np.linspace(450,550,11)\n",
    "Delta_Call = np.zeros((len(S),1))\n",
    "Delta_Put = np.zeros((len(S),1))\n",
    "for i in range(len(S)):\n",
    "    Delta_Call [i] = delta(S[i], 500, 1, 0.0167, 0, 1.084, 'call')\n",
    "    Delta_Put [i] = delta(S[i], 500, 1, 0.0167, 0, 1.084, 'put')"
   ]
  },
  {
   "cell_type": "code",
   "execution_count": 901,
   "id": "7f153db7",
   "metadata": {},
   "outputs": [
    {
     "data": {
      "text/plain": [
       "<matplotlib.legend.Legend at 0x214902a7d30>"
      ]
     },
     "execution_count": 901,
     "metadata": {},
     "output_type": "execute_result"
    },
    {
     "data": {
      "image/png": "[encoded data removed]",
      "text/plain": [
       "<Figure size 432x288 with 1 Axes>"
      ]
     },
     "metadata": {
      "needs_background": "light"
     },
     "output_type": "display_data"
    }
   ],
   "source": [
    "fig = plt.figure()\n",
    "plt.plot(S, Delta_Call, '-')\n",
    "plt.plot(S, Delta_Put, '--')\n",
    "plt.grid()\n",
    "plt.xlabel('Stock Price')\n",
    "plt.ylabel('Delta')\n",
    "plt.title('Delta')\n",
    "plt.legend(['Delta for Call','Delta for Put'])"
   ]
  },
  {
   "cell_type": "code",
   "execution_count": 931,
   "id": "d955e541",
   "metadata": {},
   "outputs": [],
   "source": [
    "def gamma(S, K, T, r, q, vol, payoff):\n",
    "    \n",
    "    d1 = (np.log(S / K) + (r - q + 0.5 * vol ** 2) * T) / (vol * np.sqrt(T))\n",
    "    gamma = np.exp(- q * T) * si.norm.pdf(d1, 0.0, 1.0) / (vol * S * np.sqrt(T))\n",
    "    \n",
    "    return gamma"
   ]
  },
  {
   "cell_type": "code",
   "execution_count": 932,
   "id": "6ea3b6b2",
   "metadata": {},
   "outputs": [
    {
     "data": {
      "text/plain": [
       "0.0007879037261126808"
      ]
     },
     "execution_count": 932,
     "metadata": {},
     "output_type": "execute_result"
    }
   ],
   "source": [
    "gamma(430, 500, 1, 0.0167, 0, 1.08, 'call')"
   ]
  },
  {
   "cell_type": "code",
   "execution_count": 933,
   "id": "7408154e",
   "metadata": {},
   "outputs": [
    {
     "data": {
      "text/plain": [
       "0.0007879037261126808"
      ]
     },
     "execution_count": 933,
     "metadata": {},
     "output_type": "execute_result"
    }
   ],
   "source": [
    "gamma(430, 500, 1, 0.0167, 0, 1.08, 'put')"
   ]
  },
  {
   "cell_type": "code",
   "execution_count": 953,
   "id": "a3b85556",
   "metadata": {},
   "outputs": [
    {
     "name": "stderr",
     "output_type": "stream",
     "text": [
      "C:\\Users\\jerin\\AppData\\Local\\Temp/ipykernel_7492/716081051.py:3: RuntimeWarning: divide by zero encountered in log\n",
      "  d1 = (np.log(S / K) + (r - q + 0.5 * vol ** 2) * T) / (vol * np.sqrt(T))\n",
      "C:\\Users\\jerin\\AppData\\Local\\Temp/ipykernel_7492/716081051.py:4: RuntimeWarning: invalid value encountered in double_scalars\n",
      "  gamma = np.exp(- q * T) * si.norm.pdf(d1, 0.0, 1.0) / (vol * S * np.sqrt(T))\n"
     ]
    }
   ],
   "source": [
    "S = np.linspace(0,250,11)\n",
    "Gamma = np.zeros((len(S),1))\n",
    "for i in range(len(S)):\n",
    "    Gamma [i] = gamma(S[i], 500, 1, 0.0167, 0, 1.08, 'call')"
   ]
  },
  {
   "cell_type": "code",
   "execution_count": 968,
   "id": "f65685b5",
   "metadata": {},
   "outputs": [
    {
     "data": {
      "text/plain": [
       "<matplotlib.legend.Legend at 0x21492e43f10>"
      ]
     },
     "execution_count": 968,
     "metadata": {},
     "output_type": "execute_result"
    },
    {
     "data": {
      "image/png": "[encoded data removed]",
      "text/plain": [
       "<Figure size 432x288 with 1 Axes>"
      ]
     },
     "metadata": {
      "needs_background": "light"
     },
     "output_type": "display_data"
    }
   ],
   "source": [
    "fig = plt.figure()\n",
    "plt.plot(S, Gamma, '-')\n",
    "plt.grid()\n",
    "plt.xlabel('BNB Price')\n",
    "plt.ylabel('Gamma')\n",
    "plt.title('Gamma')\n",
    "plt.legend(['Gamma for Put'])"
   ]
  },
  {
   "cell_type": "code",
   "execution_count": 907,
   "id": "aa4ddd70",
   "metadata": {},
   "outputs": [],
   "source": [
    "def speed(S, K, T, r, q, vol, payoff):\n",
    "    \n",
    "    d1 = (np.log(S / K) + (r - q + 0.5 * vol ** 2) * T) / (vol * np.sqrt(T))\n",
    "    speed = - np.exp(-q * T) * si.norm.pdf(d1, 0.0, 1.0) / ((vol **2) * (S**2) * np.sqrt(T)) * (d1 + vol * np.sqrt(T))\n",
    "    \n",
    "    return speed"
   ]
  },
  {
   "cell_type": "code",
   "execution_count": 908,
   "id": "43b3cdd5",
   "metadata": {},
   "outputs": [
    {
     "data": {
      "text/plain": [
       "-2.5378035271075934e-06"
      ]
     },
     "execution_count": 908,
     "metadata": {},
     "output_type": "execute_result"
    }
   ],
   "source": [
    "speed(430, 500, 1, 0.0167, 0, 1.08, 'put')"
   ]
  },
  {
   "cell_type": "code",
   "execution_count": 956,
   "id": "bfdb3a73",
   "metadata": {},
   "outputs": [],
   "source": [
    "S = np.linspace(200,800,11)\n",
    "Speed = np.zeros((len(S),1))\n",
    "for i in range(len(S)):\n",
    "    Speed [i] = speed(S[i], 500, 1/12, 0.0167, 0, 1.08, 'put')"
   ]
  },
  {
   "cell_type": "code",
   "execution_count": 957,
   "id": "ecf4dcc0",
   "metadata": {},
   "outputs": [
    {
     "data": {
      "text/plain": [
       "<matplotlib.legend.Legend at 0x21491a07430>"
      ]
     },
     "execution_count": 957,
     "metadata": {},
     "output_type": "execute_result"
    },
    {
     "data": {
      "image/png": "[encoded data removed]",
      "text/plain": [
       "<Figure size 432x288 with 1 Axes>"
      ]
     },
     "metadata": {
      "needs_background": "light"
     },
     "output_type": "display_data"
    }
   ],
   "source": [
    "fig = plt.figure()\n",
    "plt.plot(S, Speed, '-')\n",
    "plt.grid()\n",
    "plt.xlabel('BNB Price')\n",
    "plt.ylabel('Speed')\n",
    "plt.title('Speed')\n",
    "plt.legend(['Speed for Put'])"
   ]
  },
  {
   "cell_type": "code",
   "execution_count": null,
   "id": "9dc6aa28",
   "metadata": {},
   "outputs": [],
   "source": []
  },
  {
   "cell_type": "code",
   "execution_count": 911,
   "id": "dc25d859",
   "metadata": {},
   "outputs": [],
   "source": [
    "def theta(S, K, T, r, q, vol, payoff):\n",
    "    \n",
    "    d1 = (np.log(S / K) + (r - q + 0.5 * vol ** 2) * T) / (vol * np.sqrt(T))\n",
    "    d2 = (np.log(S / K) + (r - q - 0.5 * vol ** 2) * T) / (vol * np.sqrt(T))\n",
    "    if payoff == \"call\":\n",
    "        theta = vol * S * np.exp(-q * T) * si.norm.pdf(d1, 0.0, 1.0) / (2 * np.sqrt(T)) - q * S * np.exp(-q * T) * si.norm.cdf(d1, 0.0, 1.0) + r * K * np.exp(-r * T) * si.norm.cdf(d2, 0.0, 1.0)\n",
    "    elif payoff == \"put\":\n",
    "        theta = vol * S * np.exp(-q * T) * si.norm.pdf(-d1, 0.0, 1.0) / (2 * np.sqrt(T)) - q * S * np.exp(-q * T) * si.norm.cdf(-d1, 0.0, 1.0) + r * K * np.exp(-r * T) * si.norm.cdf(-d2, 0.0, 1.0)\n",
    "    \n",
    "    return theta"
   ]
  },
  {
   "cell_type": "code",
   "execution_count": 912,
   "id": "95c45f33",
   "metadata": {},
   "outputs": [
    {
     "data": {
      "text/plain": [
       "87.0424623133576"
      ]
     },
     "execution_count": 912,
     "metadata": {},
     "output_type": "execute_result"
    }
   ],
   "source": [
    "theta(430, 500, 1, 0.0167, 0, 1.08, 'call')"
   ]
  },
  {
   "cell_type": "code",
   "execution_count": 913,
   "id": "0a302c0c",
   "metadata": {},
   "outputs": [
    {
     "data": {
      "text/plain": [
       "91.09436714261204"
      ]
     },
     "execution_count": 913,
     "metadata": {},
     "output_type": "execute_result"
    }
   ],
   "source": [
    "theta(430, 500, 1, 0.0167, 0, 1.08, 'put')"
   ]
  },
  {
   "cell_type": "code",
   "execution_count": 914,
   "id": "5db618ea",
   "metadata": {},
   "outputs": [],
   "source": [
    "T = np.linspace(0.25,3,12)\n",
    "Theta_Call = np.zeros((len(T),1))\n",
    "Theta_Put = np.zeros((len(T),1))\n",
    "for i in range(len(T)):\n",
    "    Theta_Call [i] = theta(430, 500, T[i], 0.0167, 0, 1.08, 'call')\n",
    "    Theta_Put [i] = theta(400, 500, T[i], 0.0167, 0, 1.08, 'put')"
   ]
  },
  {
   "cell_type": "code",
   "execution_count": 915,
   "id": "bfa736ec",
   "metadata": {},
   "outputs": [
    {
     "data": {
      "text/plain": [
       "<matplotlib.legend.Legend at 0x21490436d60>"
      ]
     },
     "execution_count": 915,
     "metadata": {},
     "output_type": "execute_result"
    },
    {
     "data": {
      "image/png": "[encoded data removed]",
      "text/plain": [
       "<Figure size 432x288 with 1 Axes>"
      ]
     },
     "metadata": {
      "needs_background": "light"
     },
     "output_type": "display_data"
    }
   ],
   "source": [
    "fig = plt.figure()\n",
    "plt.plot(T, Theta_Call, '-')\n",
    "plt.plot(T, Theta_Put, '-')\n",
    "plt.grid()\n",
    "plt.xlabel('Time to Expiry')\n",
    "plt.ylabel('Theta')\n",
    "plt.title('Theta')\n",
    "plt.legend(['Theta for Call', 'Theta for Put'])"
   ]
  },
  {
   "cell_type": "code",
   "execution_count": null,
   "id": "84fe738e",
   "metadata": {},
   "outputs": [],
   "source": []
  },
  {
   "cell_type": "code",
   "execution_count": 916,
   "id": "bc0b92d6",
   "metadata": {},
   "outputs": [],
   "source": [
    "def rho(S, K, T, r, q, vol, payoff):\n",
    "    \n",
    "    d1 = (np.log(S / K) + (r - q + 0.5 * vol ** 2) * T) / (vol * np.sqrt(T))\n",
    "    d2 = (np.log(S / K) + (r - q - 0.5 * vol ** 2) * T) / (vol * np.sqrt(T))\n",
    "    if payoff == \"call\":\n",
    "        rho =  K * T * np.exp(-r * T) * si.norm.cdf(d2, 0.0, 1.0)\n",
    "    elif payoff == \"put\":\n",
    "        rho = - K * T * np.exp(-r * T) * si.norm.cdf(-d2, 0.0, 1.0)\n",
    "    \n",
    "    return rho"
   ]
  },
  {
   "cell_type": "code",
   "execution_count": 917,
   "id": "774061d4",
   "metadata": {},
   "outputs": [
    {
     "data": {
      "text/plain": [
       "124.54515215060633"
      ]
     },
     "execution_count": 917,
     "metadata": {},
     "output_type": "execute_result"
    }
   ],
   "source": [
    "rho(430, 500, 1, 0.0167, 0, 1.08, 'call')"
   ]
  },
  {
   "cell_type": "code",
   "execution_count": 918,
   "id": "ea389dbb",
   "metadata": {},
   "outputs": [
    {
     "data": {
      "text/plain": [
       "-367.17418384248884"
      ]
     },
     "execution_count": 918,
     "metadata": {},
     "output_type": "execute_result"
    }
   ],
   "source": [
    "rho(430, 500, 1, 0.0167, 0, 1.08, 'put')"
   ]
  },
  {
   "cell_type": "code",
   "execution_count": 919,
   "id": "5a9dd2dd",
   "metadata": {},
   "outputs": [],
   "source": [
    "r = np.linspace(0,0.1,11)\n",
    "Rho_Call = np.zeros((len(r),1))\n",
    "Rho_Put = np.zeros((len(r),1))\n",
    "for i in range(len(r)):\n",
    "    Rho_Call [i] = rho(430, 500, 1, r[i], 0, 1.08, 'call')\n",
    "    Rho_Put [i] = rho(430, 500, 1, r[i], 0, 1.08, 'put')"
   ]
  },
  {
   "cell_type": "code",
   "execution_count": 967,
   "id": "3b1168ff",
   "metadata": {},
   "outputs": [
    {
     "data": {
      "text/plain": [
       "<matplotlib.legend.Legend at 0x21492de76d0>"
      ]
     },
     "execution_count": 967,
     "metadata": {},
     "output_type": "execute_result"
    },
    {
     "data": {
      "image/png": "[encoded data removed]",
      "text/plain": [
       "<Figure size 432x288 with 1 Axes>"
      ]
     },
     "metadata": {
      "needs_background": "light"
     },
     "output_type": "display_data"
    }
   ],
   "source": [
    "fig = plt.figure()\n",
    "plt.plot(r, Rho_Call, '-')\n",
    "plt.plot(r, Rho_Put, '-')\n",
    "plt.grid()\n",
    "plt.xlabel('Interest Rate')\n",
    "plt.ylabel('Rho')\n",
    "plt.title('Rho')\n",
    "plt.legend(['Rho for Call''Rho for Put'])"
   ]
  },
  {
   "cell_type": "code",
   "execution_count": 921,
   "id": "615dee36",
   "metadata": {},
   "outputs": [],
   "source": [
    "def vega(S, K, T, r, q, vol, payoff):\n",
    "    \n",
    "    d1 = (np.log(S / K) + (r - q + 0.5 * vol ** 2) * T) / (vol * np.sqrt(T))\n",
    "    vega = S * np.sqrt(T) * np.exp(-q * T) * si.norm.pdf(d1, 0.0, 1.0)\n",
    "    \n",
    "    return vega"
   ]
  },
  {
   "cell_type": "code",
   "execution_count": 922,
   "id": "e5112f57",
   "metadata": {},
   "outputs": [
    {
     "data": {
      "text/plain": [
       "157.33807087489348"
      ]
     },
     "execution_count": 922,
     "metadata": {},
     "output_type": "execute_result"
    }
   ],
   "source": [
    "vega(430, 500, 1, 0.0167, 0, 1.08, 'call')"
   ]
  },
  {
   "cell_type": "code",
   "execution_count": 923,
   "id": "fafbc1e3",
   "metadata": {},
   "outputs": [
    {
     "data": {
      "text/plain": [
       "157.33807087489348"
      ]
     },
     "execution_count": 923,
     "metadata": {},
     "output_type": "execute_result"
    }
   ],
   "source": [
    "vega(430, 500, 1, 0.0167, 0, 1.08, 'put')"
   ]
  },
  {
   "cell_type": "code",
   "execution_count": 958,
   "id": "ff06089e",
   "metadata": {},
   "outputs": [],
   "source": [
    "vol = np.linspace(0.1,2,13)\n",
    "Vega = np.zeros((len(vol),1))\n",
    "for i in range(len(vol)):\n",
    "    Vega [i] = vega(430, 500, 1, 0.0167, 0, vol[i], 'call')"
   ]
  },
  {
   "cell_type": "code",
   "execution_count": 960,
   "id": "67586e2b",
   "metadata": {},
   "outputs": [
    {
     "data": {
      "text/plain": [
       "<matplotlib.legend.Legend at 0x21491af6d90>"
      ]
     },
     "execution_count": 960,
     "metadata": {},
     "output_type": "execute_result"
    },
    {
     "data": {
      "image/png": "[encoded data removed]",
      "text/plain": [
       "<Figure size 432x288 with 1 Axes>"
      ]
     },
     "metadata": {
      "needs_background": "light"
     },
     "output_type": "display_data"
    }
   ],
   "source": [
    "fig = plt.figure()\n",
    "plt.plot(vol, Vega, '-')\n",
    "plt.grid()\n",
    "plt.xlabel('Volatility')\n",
    "plt.ylabel('Vega')\n",
    "plt.title('Vega')\n",
    "plt.legend(['Vega for Put'])"
   ]
  }
 ],
 "metadata": {
  "kernelspec": {
   "display_name": "Python 3 (ipykernel)",
   "language": "python",
   "name": "python3"
  },
  "language_info": {
   "codemirror_mode": {
    "name": "ipython",
    "version": 3
   },
   "file_extension": ".py",
   "mimetype": "text/x-python",
   "name": "python",
   "nbconvert_exporter": "python",
   "pygments_lexer": "ipython3",
   "version": "3.9.7"
  }
 },
 "nbformat": 4,
 "nbformat_minor": 5
}
